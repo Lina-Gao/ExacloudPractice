{
 "cells": [
  {
   "cell_type": "markdown",
   "metadata": {},
   "source": [
    "# Example: Submitting R jobs on Exacloud via HTCondor\n",
    "\n",
    "This example walks through how to submit an [R](https://www.r-project.org/) script on the [Exacloud](http://exainfo/) via the [HTCondor](https://research.cs.wisc.edu/htcondor/description.html) job scheduler.\n",
    "\n",
    "The script, [`parallelGLMTuning.R`](parallelGLMTuning.R), estimates logistic regression models on 100 simulated data sets with 1,000,000 (1e6) observations and 5 dependent variables.\n",
    "The runs are parallelized using various number of clusters/nodes/workers: 12, 8, 6, 5, 4, 3, 2, 1.\n",
    "The goal of the simulation is to identify an optimal number of clusters based on elapsed time.\n",
    "\n",
    "The illustrated workflow is [here](workflowIllustrated.svg).\n",
    "\n",
    "The HTCondor submit script is the file [`submit`](submit).\n",
    "You'll notice that the submit script calls the `Rscript` executable and passes the .R script file [`parallelGLMTuning.R`](parallelGLMTuning.R) to the executable as an argument:\n",
    "\n",
    "```\n",
    "Executable        = /usr/bin/Rscript\n",
    "Arguments         = parallelGLMTuning.R\n",
    "```\n",
    "\n",
    "Error, log, and output files are saved in the `pwd` (present working directory) with the following file names:\n",
    "\n",
    "```\n",
    "Log               = job-$(Cluster)-$(Process).log\n",
    "Output            = job-$(Cluster)-$(Process).output\n",
    "Error             = job-$(Cluster)-$(Process).error\n",
    "```\n",
    "\n",
    "`$(Cluster)` and `$(Process)` are system variables identifying the job.\n",
    "As defined, the files will not be overwritten if the submit script is resubmitted.\n",
    "\n",
    "It is highly recommended to request resources (CPUs, memory, and disk storage) for your job.\n",
    "If you request too little, then your job will take longer to execute.\n",
    "If you request too much, then your job will sit in the queue waiting for the requested resources to be available.\n",
    "How can you estimate resource use?\n",
    "**Testing!**\n",
    "To test the [`parallelGLMTuning.R`](parallelGLMTuning.R) script, I altered lines 10-11 to run 100 models on data sets with 1e4 observations, instead of 1e6.\n",
    "\n",
    "```\n",
    "J <- 100  # This is the number of models to fit\n",
    "N <- 1e4  # This is the size of the dataset\n",
    "```\n",
    "\n",
    "I captured the resource use from the `job-$(Cluster)-$(Process).log` file and extrapolated.\n",
    "\n",
    "In this example, I'm requesting 12 CPUs, 240 GB of memory, and 10 GB of scratch storage.\n",
    "\n",
    "```\n",
    "Request_Cpus      = 12\n",
    "Request_Memory    = 240 GB\n",
    "request_disk      = 10 GB\n",
    "```\n",
    "\n",
    "`submit` is executed from the Exacloud bash shell prompt using\n",
    "\n",
    "```\n",
    "$ condor_submit submit\n",
    "```\n",
    "\n",
    "Details on `condor_submit` are [here](http://research.cs.wisc.edu/htcondor/manual/v7.6/condor_submit.html#74495).\n",
    "There may be clues on how to write HTCondor submit scripts there.\n",
    "\n",
    "Job status is checked using `condor_q`\n",
    "\n",
    "```\n",
    "$ condor_q | more\n",
    "$ condor_q -submitter <username>\n",
    "```\n",
    "\n",
    "The [`parallelGLMTuning.R`](parallelGLMTuning.R) produced 3 outputs\n",
    "\n",
    "1. [`parallelGLMTuning.txt`](parallelGLMTuning.txt) --- sink() output of script assertions\n",
    "2. [`parallelGLMTuning.csv`](parallelGLMTuning.csv) --- summary of simulation runs as a data set\n",
    "3. [`parallelGLMTuning.png`](parallelGLMTuning.png) --- plot of elapsed time versus number of workers"
   ]
  },
  {
   "cell_type": "markdown",
   "metadata": {},
   "source": [
    "## What about R Markdown?\n",
    "\n",
    "At the moment, [Pandoc](http://pandoc.org/) is not installed on the [Exacloud](http://exainfo/).\n",
    "So dynamic documentation via [R Markdown + knitr](http://rmarkdown.rstudio.com/) is not possible.\n",
    "Alternative workflows are below. The R Markdown steps (in orange) would be executed on a computer with Pandoc installed (e.g., your local computer or `chse.ohsu.edu`), while the big data steps (in blue) would be executed on Exacloud.\n",
    "\n",
    "* [Preprocess big data](workflowPreprocess.svg)\n",
    "* [Big data sandwich](workflowSandwich.svg)"
   ]
  },
  {
   "cell_type": "markdown",
   "metadata": {},
   "source": [
    "## R code to make workflow diagrams"
   ]
  },
  {
   "cell_type": "code",
   "execution_count": 1,
   "metadata": {
    "collapsed": false
   },
   "outputs": [
    {
     "name": "stderr",
     "output_type": "stream",
     "text": [
      "Loading required namespace: V8\n"
     ]
    }
   ],
   "source": [
    "library(DiagrammeR)\n",
    "nodeLabs <- c(\"HTCondor submit script\",\n",
    "              \"R script (.R)\",\n",
    "              \"HTCondor error\",\n",
    "              \"HTCondor log\",\n",
    "              \"HTCondor output\",\n",
    "              \"sink() output (.txt)\",\n",
    "              \"plot() or ggplot() output (.png, .jpg)\",\n",
    "              \"data objects (.RData, .csv)\")\n",
    "nodes <- create_nodes(nodes=letters[1:length(nodeLabs)],\n",
    "                      label = nodeLabs,\n",
    "                      style = \"filled\",\n",
    "                      fontcolor = \"white\",\n",
    "                      color = rgb(1, 67, 134, maxColorValue=255),\n",
    "                      shape = c(rep(\"oval\", 2), rep(\"box\", 6)))\n",
    "edges <- create_edges(from = c(\"a\", \"a\", \"a\", \"a\", \"b\", \"b\", \"b\"),\n",
    "                      to   = c(\"b\", \"c\", \"d\", \"e\", \"f\", \"g\", \"h\"),\n",
    "                      color = \"black\")\n",
    "G <- create_graph(nodes_df = nodes,\n",
    "                  edges_df = edges,\n",
    "                  node_attrs = \"fontname=Lato\",\n",
    "                  graph_attrs = c(\"layout=dot\", \"rankdir=LR\"))\n",
    "cat(render_graph(G, output=\"SVG\"), file=\"workflowIllustrated.svg\")"
   ]
  },
  {
   "cell_type": "code",
   "execution_count": 2,
   "metadata": {
    "collapsed": false
   },
   "outputs": [],
   "source": [
    "nodeLabsPandoc <- c(\"R Markdown script (.Rmd)\",\n",
    "                    \"Rendered document (.html, .md)\")\n",
    "i <- length(nodeLabs)\n",
    "nodesPandoc <- create_nodes(nodes=letters[(i + 1):(i + length(nodeLabsPandoc))],\n",
    "                            label = nodeLabsPandoc,\n",
    "                            style = \"filled\",\n",
    "                            fontcolor = \"white\",\n",
    "                            color = rgb(223, 122, 28, maxColorValue=255),\n",
    "                            shape = c(\"oval\", \"box\"))\n",
    "edgesPandoc <- create_edges(from = c(\"f\", \"g\", \"h\", \"i\"),\n",
    "                            to   = c(\"i\", \"i\", \"i\", \"j\"),\n",
    "                            color = \"black\")\n",
    "G <- create_graph(nodes_df = combine_nodes(nodes, nodesPandoc),\n",
    "                  edges_df = combine_edges(edges, edgesPandoc),\n",
    "                  node_attrs = \"fontname=Lato\",\n",
    "                  graph_attrs = c(\"layout=dot\", \"rankdir=LR\"))\n",
    "cat(render_graph(G, output=\"SVG\"), file=\"workflowPreprocess.svg\")"
   ]
  },
  {
   "cell_type": "code",
   "execution_count": 3,
   "metadata": {
    "collapsed": false
   },
   "outputs": [],
   "source": [
    "nodesPandoc <- create_nodes(nodes=letters[(i + 1):(i + length(nodeLabsPandoc) * 2)],\n",
    "                            label = c(nodeLabsPandoc, nodeLabsPandoc),\n",
    "                            style = \"filled\",\n",
    "                            fontcolor = \"white\",\n",
    "                            color = rgb(223, 122, 28, maxColorValue=255),\n",
    "                            shape = rep(c(\"oval\", \"box\"), 2))\n",
    "edgesPandocIn <- create_edges(from = c(\"k\", \"l\"),\n",
    "                              to   = c(\"l\", \"a\"),\n",
    "                              color = \"black\")\n",
    "edgesPandocOut <- create_edges(from = c(\"f\", \"g\", \"h\", \"i\"),\n",
    "                               to   = c(\"i\", \"i\", \"i\", \"j\"),\n",
    "                               color = \"black\")\n",
    "G <- create_graph(nodes_df = combine_nodes(nodes, nodesPandoc),\n",
    "                  edges_df = combine_edges(edgesPandocIn, edges, edgesPandocOut),\n",
    "                  node_attrs = \"fontname=Lato\",\n",
    "                  graph_attrs = c(\"layout=dot\", \"rankdir=LR\"))\n",
    "cat(render_graph(G, output=\"SVG\"), file=\"workflowSandwich.svg\")"
   ]
  }
 ],
 "metadata": {
  "kernelspec": {
   "display_name": "R",
   "language": "R",
   "name": "ir"
  },
  "language_info": {
   "codemirror_mode": "r",
   "file_extension": ".r",
   "mimetype": "text/x-r-source",
   "name": "R",
   "pygments_lexer": "r",
   "version": "3.2.2"
  }
 },
 "nbformat": 4,
 "nbformat_minor": 0
}
